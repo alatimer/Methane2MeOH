{
 "cells": [
  {
   "cell_type": "code",
   "execution_count": 1,
   "metadata": {},
   "outputs": [],
   "source": [
    "import pickle\n",
    "import plotly.plotly as py\n",
    "from plotly.graph_objs import *\n",
    "import pandas as pd\n",
    "import numpy as np\n",
    "from ase.units import kB\n",
    "import cufflinks as cf\n",
    "import plotly\n",
    "plotly.tools.set_credentials_file(username='alatimer', api_key='qVVsdblMUDBO0SgYDLSV')"
   ]
  },
  {
   "cell_type": "code",
   "execution_count": 2,
   "metadata": {},
   "outputs": [],
   "source": [
    "def dEa2dGa(dEa,T):\n",
    "    return dEa - 3.942e-4*T - 0.0289\n",
    "def err_fun(T):\n",
    "    return 4.7e-5*T+0.0572\n",
    "def dEafun(T):\n",
    "    if T<=425:\n",
    "        return 0.55-0.21\n",
    "    elif T>425:\n",
    "        return 0.55\n",
    "def namefun(T):\n",
    "    if T<=425:\n",
    "        return \"Selectivity Limit ~ Aqueous\"\n",
    "    elif T>425:\n",
    "        return \"Selectivity Limit ~ Gas-phase\"\n",
    "def sel_fun(conv,T,dEa=None,dGa=None,error=None):\n",
    "    if dGa == None:\n",
    "        dGa = dEa2dGa(dEa,T)\n",
    "    if error=='+':\n",
    "        dGa+=err_fun(T)\n",
    "    elif error=='-':\n",
    "        dGa-=err_fun(T)\n",
    "    k2_k1 = np.exp(dGa/kB/T)\n",
    "    sel = (1-conv-(1-conv)**(k2_k1))/(conv*(k2_k1-1))*100\n",
    "    return sel #in percent"
   ]
  },
  {
   "cell_type": "code",
   "execution_count": 34,
   "metadata": {},
   "outputs": [],
   "source": [
    "df = pd.read_csv('exp.dat',delim_whitespace=True)\n",
    "#remove unneeded columns\n",
    "smalldf = df[['category','DOI','log_conv','sel','T','rxntype','single-site']] \n",
    "#Remove non-single site, mmo, sel=0\n",
    "smalldf = smalldf[(smalldf['sel']!=0) & (smalldf['category'].apply(lambda x: 'MMO' not in x))]\n",
    "smalldf= smalldf[smalldf['single-site']=='yes']"
   ]
  },
  {
   "cell_type": "code",
   "execution_count": 57,
   "metadata": {},
   "outputs": [],
   "source": [
    "conv_vec = np.logspace(-8,-.01,num=1e2,base=10)\n",
    "temp_range = np.arange(275,975,50)\n",
    "clr='lightblue' #color of selectivity limit lines\n",
    "\n",
    "data = [ dict( \n",
    "        line=dict(color=clr),\n",
    "        visible = False,\n",
    "        name = namefun(temp),\n",
    "        x = np.log10(conv_vec), \n",
    "        y = sel_fun(conv_vec,temp,dEa=dEafun(temp) )) for temp in temp_range \n",
    "       ]\n",
    "    \n",
    "data[10]['visible'] = True\n",
    "\n",
    "steps = []\n",
    "for i,temp in enumerate(temp_range):\n",
    "    step = dict(\n",
    "        method = 'restyle',  \n",
    "        label=temp,\n",
    "        args = ['visible', [False] * len(data) ],\n",
    "    )\n",
    "    step['args'][1][i] = True # Toggle i'th trace to \"visible\"\n",
    "    steps.append(step)\n",
    "\n",
    "sliders = [ dict(\n",
    "    active = 0,\n",
    "    currentvalue = {\"prefix\": \"Temperature (K): \"},\n",
    "    pad = {\"t\": 50},\n",
    "    steps = steps\n",
    "    ) \n",
    " ]\n",
    "\n",
    "layout = dict( \n",
    "                #include link to our paper\n",
    "                title='Interactive version of Figure 5 from: <br> <i> Direct Methane to Methanol: The Selectivity-Conversion Limit and Design Strategies </i> <br>  Click on data to go to publication',\n",
    "                xaxis=dict(\n",
    "                    title='log(Methane Conversion)',\n",
    "                    ),\n",
    "                yaxis=dict(\n",
    "                    title='Methanol Selectivity (%)',\n",
    "                    ),\n",
    "                sliders = sliders, \n",
    "                legend = dict(x=0.1,y=0.1) ,\n",
    "                autosize=False,\n",
    "                width=700,\n",
    "                height=500,\n",
    "             )\n",
    "\n",
    "#Add +1 sigma error\n",
    "data+=[dict( \n",
    "        line=dict(color=clr,dash='dash'),\n",
    "        visible = False,\n",
    "        showlegend=False,\n",
    "        x = np.log10(conv_vec), \n",
    "        y = sel_fun(conv_vec,temp,dEa=dEafun(temp)+err_fun(temp) )) for temp in temp_range \n",
    "       ]\n",
    "#Add -1 sigma error\n",
    "data+=[dict( \n",
    "        line=dict(color=clr,dash='dash'),\n",
    "        visible = False,\n",
    "        name = \"+/-1 std\",\n",
    "        x = np.log10(conv_vec), \n",
    "        y = sel_fun(conv_vec,temp,dEa=dEafun(temp)-err_fun(temp) )) for temp in temp_range \n",
    "       ]\n",
    "\n",
    "for cat in smalldf['category'].unique():\n",
    "    for temp in temp_range:\n",
    "        tempdf = smalldf[(smalldf['T']<temp+25) & (smalldf['T']>temp-25) & (smalldf['category']==cat)]\n",
    "        my_text = []\n",
    "        for i,row in tempdf.iterrows():\n",
    "            #check if patent\n",
    "            if row['DOI'].startswith('US') or row['DOI'].startswith('GB'):\n",
    "                my_text.append(\" <a href='http://www.google.com/patents/%s'> </a>\"%(row['DOI']))\n",
    "            else:\n",
    "                my_text.append(\" <a href='http://doi.org/%s'> </a>\"%(row['DOI']))\n",
    "\n",
    "        data_dict=dict(\n",
    "            visible=False,\n",
    "            x = tempdf['log_conv'],\n",
    "            y = tempdf['sel'],\n",
    "            #mode='markers',\n",
    "            mode='markers+text',\n",
    "            name=cat,\n",
    "            text = my_text,\n",
    "            textfont = {'color':['w' for i in tempdf]},\n",
    "            #hoverinfo=tempdf['T'],\n",
    "        )\n",
    "        data.append(data_dict)\n",
    "        \n",
    "\n",
    "        "
   ]
  },
  {
   "cell_type": "code",
   "execution_count": 58,
   "metadata": {},
   "outputs": [
    {
     "data": {
      "text/html": [
       "<iframe id=\"igraph\" scrolling=\"no\" style=\"border:none;\" seamless=\"seamless\" src=\"https://plot.ly/~alatimer/7.embed\" height=\"500px\" width=\"700px\"></iframe>"
      ],
      "text/plain": [
       "<plotly.tools.PlotlyDisplay object>"
      ]
     },
     "execution_count": 58,
     "metadata": {},
     "output_type": "execute_result"
    }
   ],
   "source": [
    "fig = dict( data = data, layout = layout )\n",
    "py.iplot( fig, filename = 'Temperature slider' )"
   ]
  },
  {
   "cell_type": "code",
   "execution_count": null,
   "metadata": {},
   "outputs": [],
   "source": []
  },
  {
   "cell_type": "code",
   "execution_count": null,
   "metadata": {},
   "outputs": [],
   "source": []
  },
  {
   "cell_type": "code",
   "execution_count": 236,
   "metadata": {},
   "outputs": [],
   "source": []
  },
  {
   "cell_type": "code",
   "execution_count": null,
   "metadata": {},
   "outputs": [],
   "source": []
  },
  {
   "cell_type": "code",
   "execution_count": null,
   "metadata": {},
   "outputs": [],
   "source": []
  }
 ],
 "metadata": {
  "kernelspec": {
   "display_name": "Python 2",
   "language": "python",
   "name": "python2"
  },
  "language_info": {
   "codemirror_mode": {
    "name": "ipython",
    "version": 2
   },
   "file_extension": ".py",
   "mimetype": "text/x-python",
   "name": "python",
   "nbconvert_exporter": "python",
   "pygments_lexer": "ipython2",
   "version": "2.7.14"
  }
 },
 "nbformat": 4,
 "nbformat_minor": 2
}
